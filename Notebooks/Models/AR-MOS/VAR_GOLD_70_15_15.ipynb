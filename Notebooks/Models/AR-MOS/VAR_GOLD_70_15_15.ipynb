{
  "nbformat": 4,
  "nbformat_minor": 0,
  "metadata": {
    "colab": {
      "provenance": []
    },
    "kernelspec": {
      "name": "python3",
      "display_name": "Python 3"
    },
    "language_info": {
      "name": "python"
    }
  },
  "cells": [
    {
      "cell_type": "markdown",
      "source": [
        "# 1. Cài đặt thư viện"
      ],
      "metadata": {
        "id": "5sDrnQIqO2P-"
      }
    },
    {
      "cell_type": "code",
      "execution_count": 6,
      "metadata": {
        "id": "rojFa-nCMOkz"
      },
      "outputs": [],
      "source": [
        "import pandas as pd\n",
        "import numpy as np\n",
        "import matplotlib.pyplot as plt\n",
        "from sklearn.metrics import mean_squared_error, mean_absolute_error, mean_absolute_percentage_error, r2_score\n",
        "from statsmodels.tsa.api import VAR\n",
        "from statsmodels.tsa.stattools import adfuller\n",
        "from datetime import timedelta"
      ]
    },
    {
      "cell_type": "markdown",
      "source": [
        "# 2. Đọc và tiền xử lý dữ liệu"
      ],
      "metadata": {
        "id": "SaXxNE7vO4zt"
      }
    },
    {
      "cell_type": "code",
      "source": [
        "from google.colab import files\n",
        "uploaded = files.upload()"
      ],
      "metadata": {
        "colab": {
          "base_uri": "https://localhost:8080/",
          "height": 73
        },
        "id": "q_BMmgnJPD-O",
        "outputId": "3e34e338-1be2-4e7c-899e-2e8f0691407e"
      },
      "execution_count": 4,
      "outputs": [
        {
          "output_type": "display_data",
          "data": {
            "text/plain": [
              "<IPython.core.display.HTML object>"
            ],
            "text/html": [
              "\n",
              "     <input type=\"file\" id=\"files-c6bd6f67-e9b7-4bfa-a017-6da016aece2f\" name=\"files[]\" multiple disabled\n",
              "        style=\"border:none\" />\n",
              "     <output id=\"result-c6bd6f67-e9b7-4bfa-a017-6da016aece2f\">\n",
              "      Upload widget is only available when the cell has been executed in the\n",
              "      current browser session. Please rerun this cell to enable.\n",
              "      </output>\n",
              "      <script>// Copyright 2017 Google LLC\n",
              "//\n",
              "// Licensed under the Apache License, Version 2.0 (the \"License\");\n",
              "// you may not use this file except in compliance with the License.\n",
              "// You may obtain a copy of the License at\n",
              "//\n",
              "//      http://www.apache.org/licenses/LICENSE-2.0\n",
              "//\n",
              "// Unless required by applicable law or agreed to in writing, software\n",
              "// distributed under the License is distributed on an \"AS IS\" BASIS,\n",
              "// WITHOUT WARRANTIES OR CONDITIONS OF ANY KIND, either express or implied.\n",
              "// See the License for the specific language governing permissions and\n",
              "// limitations under the License.\n",
              "\n",
              "/**\n",
              " * @fileoverview Helpers for google.colab Python module.\n",
              " */\n",
              "(function(scope) {\n",
              "function span(text, styleAttributes = {}) {\n",
              "  const element = document.createElement('span');\n",
              "  element.textContent = text;\n",
              "  for (const key of Object.keys(styleAttributes)) {\n",
              "    element.style[key] = styleAttributes[key];\n",
              "  }\n",
              "  return element;\n",
              "}\n",
              "\n",
              "// Max number of bytes which will be uploaded at a time.\n",
              "const MAX_PAYLOAD_SIZE = 100 * 1024;\n",
              "\n",
              "function _uploadFiles(inputId, outputId) {\n",
              "  const steps = uploadFilesStep(inputId, outputId);\n",
              "  const outputElement = document.getElementById(outputId);\n",
              "  // Cache steps on the outputElement to make it available for the next call\n",
              "  // to uploadFilesContinue from Python.\n",
              "  outputElement.steps = steps;\n",
              "\n",
              "  return _uploadFilesContinue(outputId);\n",
              "}\n",
              "\n",
              "// This is roughly an async generator (not supported in the browser yet),\n",
              "// where there are multiple asynchronous steps and the Python side is going\n",
              "// to poll for completion of each step.\n",
              "// This uses a Promise to block the python side on completion of each step,\n",
              "// then passes the result of the previous step as the input to the next step.\n",
              "function _uploadFilesContinue(outputId) {\n",
              "  const outputElement = document.getElementById(outputId);\n",
              "  const steps = outputElement.steps;\n",
              "\n",
              "  const next = steps.next(outputElement.lastPromiseValue);\n",
              "  return Promise.resolve(next.value.promise).then((value) => {\n",
              "    // Cache the last promise value to make it available to the next\n",
              "    // step of the generator.\n",
              "    outputElement.lastPromiseValue = value;\n",
              "    return next.value.response;\n",
              "  });\n",
              "}\n",
              "\n",
              "/**\n",
              " * Generator function which is called between each async step of the upload\n",
              " * process.\n",
              " * @param {string} inputId Element ID of the input file picker element.\n",
              " * @param {string} outputId Element ID of the output display.\n",
              " * @return {!Iterable<!Object>} Iterable of next steps.\n",
              " */\n",
              "function* uploadFilesStep(inputId, outputId) {\n",
              "  const inputElement = document.getElementById(inputId);\n",
              "  inputElement.disabled = false;\n",
              "\n",
              "  const outputElement = document.getElementById(outputId);\n",
              "  outputElement.innerHTML = '';\n",
              "\n",
              "  const pickedPromise = new Promise((resolve) => {\n",
              "    inputElement.addEventListener('change', (e) => {\n",
              "      resolve(e.target.files);\n",
              "    });\n",
              "  });\n",
              "\n",
              "  const cancel = document.createElement('button');\n",
              "  inputElement.parentElement.appendChild(cancel);\n",
              "  cancel.textContent = 'Cancel upload';\n",
              "  const cancelPromise = new Promise((resolve) => {\n",
              "    cancel.onclick = () => {\n",
              "      resolve(null);\n",
              "    };\n",
              "  });\n",
              "\n",
              "  // Wait for the user to pick the files.\n",
              "  const files = yield {\n",
              "    promise: Promise.race([pickedPromise, cancelPromise]),\n",
              "    response: {\n",
              "      action: 'starting',\n",
              "    }\n",
              "  };\n",
              "\n",
              "  cancel.remove();\n",
              "\n",
              "  // Disable the input element since further picks are not allowed.\n",
              "  inputElement.disabled = true;\n",
              "\n",
              "  if (!files) {\n",
              "    return {\n",
              "      response: {\n",
              "        action: 'complete',\n",
              "      }\n",
              "    };\n",
              "  }\n",
              "\n",
              "  for (const file of files) {\n",
              "    const li = document.createElement('li');\n",
              "    li.append(span(file.name, {fontWeight: 'bold'}));\n",
              "    li.append(span(\n",
              "        `(${file.type || 'n/a'}) - ${file.size} bytes, ` +\n",
              "        `last modified: ${\n",
              "            file.lastModifiedDate ? file.lastModifiedDate.toLocaleDateString() :\n",
              "                                    'n/a'} - `));\n",
              "    const percent = span('0% done');\n",
              "    li.appendChild(percent);\n",
              "\n",
              "    outputElement.appendChild(li);\n",
              "\n",
              "    const fileDataPromise = new Promise((resolve) => {\n",
              "      const reader = new FileReader();\n",
              "      reader.onload = (e) => {\n",
              "        resolve(e.target.result);\n",
              "      };\n",
              "      reader.readAsArrayBuffer(file);\n",
              "    });\n",
              "    // Wait for the data to be ready.\n",
              "    let fileData = yield {\n",
              "      promise: fileDataPromise,\n",
              "      response: {\n",
              "        action: 'continue',\n",
              "      }\n",
              "    };\n",
              "\n",
              "    // Use a chunked sending to avoid message size limits. See b/62115660.\n",
              "    let position = 0;\n",
              "    do {\n",
              "      const length = Math.min(fileData.byteLength - position, MAX_PAYLOAD_SIZE);\n",
              "      const chunk = new Uint8Array(fileData, position, length);\n",
              "      position += length;\n",
              "\n",
              "      const base64 = btoa(String.fromCharCode.apply(null, chunk));\n",
              "      yield {\n",
              "        response: {\n",
              "          action: 'append',\n",
              "          file: file.name,\n",
              "          data: base64,\n",
              "        },\n",
              "      };\n",
              "\n",
              "      let percentDone = fileData.byteLength === 0 ?\n",
              "          100 :\n",
              "          Math.round((position / fileData.byteLength) * 100);\n",
              "      percent.textContent = `${percentDone}% done`;\n",
              "\n",
              "    } while (position < fileData.byteLength);\n",
              "  }\n",
              "\n",
              "  // All done.\n",
              "  yield {\n",
              "    response: {\n",
              "      action: 'complete',\n",
              "    }\n",
              "  };\n",
              "}\n",
              "\n",
              "scope.google = scope.google || {};\n",
              "scope.google.colab = scope.google.colab || {};\n",
              "scope.google.colab._files = {\n",
              "  _uploadFiles,\n",
              "  _uploadFilesContinue,\n",
              "};\n",
              "})(self);\n",
              "</script> "
            ]
          },
          "metadata": {}
        },
        {
          "output_type": "stream",
          "name": "stdout",
          "text": [
            "Saving gold_price.csv to gold_price.csv\n"
          ]
        }
      ]
    },
    {
      "cell_type": "code",
      "source": [
        "df = pd.read_csv(\"gold_price.csv\")\n",
        "df.columns = [\"Date\", \"Price\", \"Open\", \"High\", \"Low\", \"Volume\", \"Change\"]\n",
        "df[\"Date\"] = pd.to_datetime(df[\"Date\"], format=\"%m/%d/%Y\")\n",
        "df = df.sort_values(\"Date\").reset_index(drop=True)\n",
        "\n",
        "for col in [\"Price\", \"Open\", \"High\", \"Low\"]:\n",
        "    df[col] = df[col].str.replace(\",\", \"\").astype(float)\n",
        "df[\"Volume\"] = df[\"Volume\"].str.replace(\"K\", \"\").str.replace(\",\", \"\").astype(float) * 1_000\n",
        "df[\"Change\"] = df[\"Change\"].str.replace(\"%\", \"\").astype(float)\n",
        "\n",
        "\n",
        "df.set_index(\"Date\", inplace=True)\n",
        "\n",
        "df.head()"
      ],
      "metadata": {
        "id": "9pDI1es7Mb0u",
        "colab": {
          "base_uri": "https://localhost:8080/",
          "height": 237
        },
        "outputId": "6925a340-ef3c-4192-f38a-35c8207c0982"
      },
      "execution_count": 8,
      "outputs": [
        {
          "output_type": "execute_result",
          "data": {
            "text/plain": [
              "             Price    Open    High     Low    Volume  Change\n",
              "Date                                                        \n",
              "2010-01-04  1118.3  1099.0  1124.6  1093.8  155480.0    2.02\n",
              "2010-01-05  1118.7  1122.0  1129.6  1115.5  156410.0    0.04\n",
              "2010-01-06  1136.5  1118.5  1141.0  1116.8  176900.0    1.59\n",
              "2010-01-07  1133.7  1139.0  1139.5  1128.7  121150.0   -0.25\n",
              "2010-01-08  1138.9  1131.5  1140.0  1119.5  212620.0    0.46"
            ],
            "text/html": [
              "\n",
              "  <div id=\"df-cbf10bcd-421e-4376-b3e6-edf83e70b7fe\" class=\"colab-df-container\">\n",
              "    <div>\n",
              "<style scoped>\n",
              "    .dataframe tbody tr th:only-of-type {\n",
              "        vertical-align: middle;\n",
              "    }\n",
              "\n",
              "    .dataframe tbody tr th {\n",
              "        vertical-align: top;\n",
              "    }\n",
              "\n",
              "    .dataframe thead th {\n",
              "        text-align: right;\n",
              "    }\n",
              "</style>\n",
              "<table border=\"1\" class=\"dataframe\">\n",
              "  <thead>\n",
              "    <tr style=\"text-align: right;\">\n",
              "      <th></th>\n",
              "      <th>Price</th>\n",
              "      <th>Open</th>\n",
              "      <th>High</th>\n",
              "      <th>Low</th>\n",
              "      <th>Volume</th>\n",
              "      <th>Change</th>\n",
              "    </tr>\n",
              "    <tr>\n",
              "      <th>Date</th>\n",
              "      <th></th>\n",
              "      <th></th>\n",
              "      <th></th>\n",
              "      <th></th>\n",
              "      <th></th>\n",
              "      <th></th>\n",
              "    </tr>\n",
              "  </thead>\n",
              "  <tbody>\n",
              "    <tr>\n",
              "      <th>2010-01-04</th>\n",
              "      <td>1118.3</td>\n",
              "      <td>1099.0</td>\n",
              "      <td>1124.6</td>\n",
              "      <td>1093.8</td>\n",
              "      <td>155480.0</td>\n",
              "      <td>2.02</td>\n",
              "    </tr>\n",
              "    <tr>\n",
              "      <th>2010-01-05</th>\n",
              "      <td>1118.7</td>\n",
              "      <td>1122.0</td>\n",
              "      <td>1129.6</td>\n",
              "      <td>1115.5</td>\n",
              "      <td>156410.0</td>\n",
              "      <td>0.04</td>\n",
              "    </tr>\n",
              "    <tr>\n",
              "      <th>2010-01-06</th>\n",
              "      <td>1136.5</td>\n",
              "      <td>1118.5</td>\n",
              "      <td>1141.0</td>\n",
              "      <td>1116.8</td>\n",
              "      <td>176900.0</td>\n",
              "      <td>1.59</td>\n",
              "    </tr>\n",
              "    <tr>\n",
              "      <th>2010-01-07</th>\n",
              "      <td>1133.7</td>\n",
              "      <td>1139.0</td>\n",
              "      <td>1139.5</td>\n",
              "      <td>1128.7</td>\n",
              "      <td>121150.0</td>\n",
              "      <td>-0.25</td>\n",
              "    </tr>\n",
              "    <tr>\n",
              "      <th>2010-01-08</th>\n",
              "      <td>1138.9</td>\n",
              "      <td>1131.5</td>\n",
              "      <td>1140.0</td>\n",
              "      <td>1119.5</td>\n",
              "      <td>212620.0</td>\n",
              "      <td>0.46</td>\n",
              "    </tr>\n",
              "  </tbody>\n",
              "</table>\n",
              "</div>\n",
              "    <div class=\"colab-df-buttons\">\n",
              "\n",
              "  <div class=\"colab-df-container\">\n",
              "    <button class=\"colab-df-convert\" onclick=\"convertToInteractive('df-cbf10bcd-421e-4376-b3e6-edf83e70b7fe')\"\n",
              "            title=\"Convert this dataframe to an interactive table.\"\n",
              "            style=\"display:none;\">\n",
              "\n",
              "  <svg xmlns=\"http://www.w3.org/2000/svg\" height=\"24px\" viewBox=\"0 -960 960 960\">\n",
              "    <path d=\"M120-120v-720h720v720H120Zm60-500h600v-160H180v160Zm220 220h160v-160H400v160Zm0 220h160v-160H400v160ZM180-400h160v-160H180v160Zm440 0h160v-160H620v160ZM180-180h160v-160H180v160Zm440 0h160v-160H620v160Z\"/>\n",
              "  </svg>\n",
              "    </button>\n",
              "\n",
              "  <style>\n",
              "    .colab-df-container {\n",
              "      display:flex;\n",
              "      gap: 12px;\n",
              "    }\n",
              "\n",
              "    .colab-df-convert {\n",
              "      background-color: #E8F0FE;\n",
              "      border: none;\n",
              "      border-radius: 50%;\n",
              "      cursor: pointer;\n",
              "      display: none;\n",
              "      fill: #1967D2;\n",
              "      height: 32px;\n",
              "      padding: 0 0 0 0;\n",
              "      width: 32px;\n",
              "    }\n",
              "\n",
              "    .colab-df-convert:hover {\n",
              "      background-color: #E2EBFA;\n",
              "      box-shadow: 0px 1px 2px rgba(60, 64, 67, 0.3), 0px 1px 3px 1px rgba(60, 64, 67, 0.15);\n",
              "      fill: #174EA6;\n",
              "    }\n",
              "\n",
              "    .colab-df-buttons div {\n",
              "      margin-bottom: 4px;\n",
              "    }\n",
              "\n",
              "    [theme=dark] .colab-df-convert {\n",
              "      background-color: #3B4455;\n",
              "      fill: #D2E3FC;\n",
              "    }\n",
              "\n",
              "    [theme=dark] .colab-df-convert:hover {\n",
              "      background-color: #434B5C;\n",
              "      box-shadow: 0px 1px 3px 1px rgba(0, 0, 0, 0.15);\n",
              "      filter: drop-shadow(0px 1px 2px rgba(0, 0, 0, 0.3));\n",
              "      fill: #FFFFFF;\n",
              "    }\n",
              "  </style>\n",
              "\n",
              "    <script>\n",
              "      const buttonEl =\n",
              "        document.querySelector('#df-cbf10bcd-421e-4376-b3e6-edf83e70b7fe button.colab-df-convert');\n",
              "      buttonEl.style.display =\n",
              "        google.colab.kernel.accessAllowed ? 'block' : 'none';\n",
              "\n",
              "      async function convertToInteractive(key) {\n",
              "        const element = document.querySelector('#df-cbf10bcd-421e-4376-b3e6-edf83e70b7fe');\n",
              "        const dataTable =\n",
              "          await google.colab.kernel.invokeFunction('convertToInteractive',\n",
              "                                                    [key], {});\n",
              "        if (!dataTable) return;\n",
              "\n",
              "        const docLinkHtml = 'Like what you see? Visit the ' +\n",
              "          '<a target=\"_blank\" href=https://colab.research.google.com/notebooks/data_table.ipynb>data table notebook</a>'\n",
              "          + ' to learn more about interactive tables.';\n",
              "        element.innerHTML = '';\n",
              "        dataTable['output_type'] = 'display_data';\n",
              "        await google.colab.output.renderOutput(dataTable, element);\n",
              "        const docLink = document.createElement('div');\n",
              "        docLink.innerHTML = docLinkHtml;\n",
              "        element.appendChild(docLink);\n",
              "      }\n",
              "    </script>\n",
              "  </div>\n",
              "\n",
              "\n",
              "    <div id=\"df-4b2da6df-eec4-432f-920b-91a65f1b1117\">\n",
              "      <button class=\"colab-df-quickchart\" onclick=\"quickchart('df-4b2da6df-eec4-432f-920b-91a65f1b1117')\"\n",
              "                title=\"Suggest charts\"\n",
              "                style=\"display:none;\">\n",
              "\n",
              "<svg xmlns=\"http://www.w3.org/2000/svg\" height=\"24px\"viewBox=\"0 0 24 24\"\n",
              "     width=\"24px\">\n",
              "    <g>\n",
              "        <path d=\"M19 3H5c-1.1 0-2 .9-2 2v14c0 1.1.9 2 2 2h14c1.1 0 2-.9 2-2V5c0-1.1-.9-2-2-2zM9 17H7v-7h2v7zm4 0h-2V7h2v10zm4 0h-2v-4h2v4z\"/>\n",
              "    </g>\n",
              "</svg>\n",
              "      </button>\n",
              "\n",
              "<style>\n",
              "  .colab-df-quickchart {\n",
              "      --bg-color: #E8F0FE;\n",
              "      --fill-color: #1967D2;\n",
              "      --hover-bg-color: #E2EBFA;\n",
              "      --hover-fill-color: #174EA6;\n",
              "      --disabled-fill-color: #AAA;\n",
              "      --disabled-bg-color: #DDD;\n",
              "  }\n",
              "\n",
              "  [theme=dark] .colab-df-quickchart {\n",
              "      --bg-color: #3B4455;\n",
              "      --fill-color: #D2E3FC;\n",
              "      --hover-bg-color: #434B5C;\n",
              "      --hover-fill-color: #FFFFFF;\n",
              "      --disabled-bg-color: #3B4455;\n",
              "      --disabled-fill-color: #666;\n",
              "  }\n",
              "\n",
              "  .colab-df-quickchart {\n",
              "    background-color: var(--bg-color);\n",
              "    border: none;\n",
              "    border-radius: 50%;\n",
              "    cursor: pointer;\n",
              "    display: none;\n",
              "    fill: var(--fill-color);\n",
              "    height: 32px;\n",
              "    padding: 0;\n",
              "    width: 32px;\n",
              "  }\n",
              "\n",
              "  .colab-df-quickchart:hover {\n",
              "    background-color: var(--hover-bg-color);\n",
              "    box-shadow: 0 1px 2px rgba(60, 64, 67, 0.3), 0 1px 3px 1px rgba(60, 64, 67, 0.15);\n",
              "    fill: var(--button-hover-fill-color);\n",
              "  }\n",
              "\n",
              "  .colab-df-quickchart-complete:disabled,\n",
              "  .colab-df-quickchart-complete:disabled:hover {\n",
              "    background-color: var(--disabled-bg-color);\n",
              "    fill: var(--disabled-fill-color);\n",
              "    box-shadow: none;\n",
              "  }\n",
              "\n",
              "  .colab-df-spinner {\n",
              "    border: 2px solid var(--fill-color);\n",
              "    border-color: transparent;\n",
              "    border-bottom-color: var(--fill-color);\n",
              "    animation:\n",
              "      spin 1s steps(1) infinite;\n",
              "  }\n",
              "\n",
              "  @keyframes spin {\n",
              "    0% {\n",
              "      border-color: transparent;\n",
              "      border-bottom-color: var(--fill-color);\n",
              "      border-left-color: var(--fill-color);\n",
              "    }\n",
              "    20% {\n",
              "      border-color: transparent;\n",
              "      border-left-color: var(--fill-color);\n",
              "      border-top-color: var(--fill-color);\n",
              "    }\n",
              "    30% {\n",
              "      border-color: transparent;\n",
              "      border-left-color: var(--fill-color);\n",
              "      border-top-color: var(--fill-color);\n",
              "      border-right-color: var(--fill-color);\n",
              "    }\n",
              "    40% {\n",
              "      border-color: transparent;\n",
              "      border-right-color: var(--fill-color);\n",
              "      border-top-color: var(--fill-color);\n",
              "    }\n",
              "    60% {\n",
              "      border-color: transparent;\n",
              "      border-right-color: var(--fill-color);\n",
              "    }\n",
              "    80% {\n",
              "      border-color: transparent;\n",
              "      border-right-color: var(--fill-color);\n",
              "      border-bottom-color: var(--fill-color);\n",
              "    }\n",
              "    90% {\n",
              "      border-color: transparent;\n",
              "      border-bottom-color: var(--fill-color);\n",
              "    }\n",
              "  }\n",
              "</style>\n",
              "\n",
              "      <script>\n",
              "        async function quickchart(key) {\n",
              "          const quickchartButtonEl =\n",
              "            document.querySelector('#' + key + ' button');\n",
              "          quickchartButtonEl.disabled = true;  // To prevent multiple clicks.\n",
              "          quickchartButtonEl.classList.add('colab-df-spinner');\n",
              "          try {\n",
              "            const charts = await google.colab.kernel.invokeFunction(\n",
              "                'suggestCharts', [key], {});\n",
              "          } catch (error) {\n",
              "            console.error('Error during call to suggestCharts:', error);\n",
              "          }\n",
              "          quickchartButtonEl.classList.remove('colab-df-spinner');\n",
              "          quickchartButtonEl.classList.add('colab-df-quickchart-complete');\n",
              "        }\n",
              "        (() => {\n",
              "          let quickchartButtonEl =\n",
              "            document.querySelector('#df-4b2da6df-eec4-432f-920b-91a65f1b1117 button');\n",
              "          quickchartButtonEl.style.display =\n",
              "            google.colab.kernel.accessAllowed ? 'block' : 'none';\n",
              "        })();\n",
              "      </script>\n",
              "    </div>\n",
              "\n",
              "    </div>\n",
              "  </div>\n"
            ],
            "application/vnd.google.colaboratory.intrinsic+json": {
              "type": "dataframe",
              "variable_name": "df",
              "summary": "{\n  \"name\": \"df\",\n  \"rows\": 3886,\n  \"fields\": [\n    {\n      \"column\": \"Date\",\n      \"properties\": {\n        \"dtype\": \"date\",\n        \"min\": \"2010-01-04 00:00:00\",\n        \"max\": \"2025-04-01 00:00:00\",\n        \"num_unique_values\": 3886,\n        \"samples\": [\n          \"2015-05-05 00:00:00\",\n          \"2021-05-14 00:00:00\",\n          \"2024-02-06 00:00:00\"\n        ],\n        \"semantic_type\": \"\",\n        \"description\": \"\"\n      }\n    },\n    {\n      \"column\": \"Price\",\n      \"properties\": {\n        \"dtype\": \"number\",\n        \"std\": 388.10908618433837,\n        \"min\": 1049.6,\n        \"max\": 3150.3,\n        \"num_unique_values\": 3146,\n        \"samples\": [\n          2397.7,\n          1331.8,\n          1245.1\n        ],\n        \"semantic_type\": \"\",\n        \"description\": \"\"\n      }\n    },\n    {\n      \"column\": \"Open\",\n      \"properties\": {\n        \"dtype\": \"number\",\n        \"std\": 387.8120645872594,\n        \"min\": 1051.5,\n        \"max\": 3157.3,\n        \"num_unique_values\": 3081,\n        \"samples\": [\n          1156.2,\n          1478.8,\n          1743.0\n        ],\n        \"semantic_type\": \"\",\n        \"description\": \"\"\n      }\n    },\n    {\n      \"column\": \"High\",\n      \"properties\": {\n        \"dtype\": \"number\",\n        \"std\": 390.85549579985604,\n        \"min\": 1062.7,\n        \"max\": 3177.0,\n        \"num_unique_values\": 3094,\n        \"samples\": [\n          2000.0,\n          1773.8,\n          1780.0\n        ],\n        \"semantic_type\": \"\",\n        \"description\": \"\"\n      }\n    },\n    {\n      \"column\": \"Low\",\n      \"properties\": {\n        \"dtype\": \"number\",\n        \"std\": 384.97876326508555,\n        \"min\": 1044.5,\n        \"max\": 3130.5,\n        \"num_unique_values\": 3144,\n        \"samples\": [\n          2495.0,\n          2385.2,\n          1310.0\n        ],\n        \"semantic_type\": \"\",\n        \"description\": \"\"\n      }\n    },\n    {\n      \"column\": \"Volume\",\n      \"properties\": {\n        \"dtype\": \"number\",\n        \"std\": 112053.82486630176,\n        \"min\": 120.0,\n        \"max\": 816530.0,\n        \"num_unique_values\": 2983,\n        \"samples\": [\n          222940.0,\n          258329.99999999997,\n          120610.0\n        ],\n        \"semantic_type\": \"\",\n        \"description\": \"\"\n      }\n    },\n    {\n      \"column\": \"Change\",\n      \"properties\": {\n        \"dtype\": \"number\",\n        \"std\": 0.9983873318591526,\n        \"min\": -9.34,\n        \"max\": 5.95,\n        \"num_unique_values\": 535,\n        \"samples\": [\n          0.93,\n          -0.14,\n          3.4\n        ],\n        \"semantic_type\": \"\",\n        \"description\": \"\"\n      }\n    }\n  ]\n}"
            }
          },
          "metadata": {},
          "execution_count": 8
        }
      ]
    },
    {
      "cell_type": "markdown",
      "source": [],
      "metadata": {
        "id": "sZMAZrpGO8WI"
      }
    },
    {
      "cell_type": "markdown",
      "source": [
        "# 3. Kiểm tra tính dừng và sai phân"
      ],
      "metadata": {
        "id": "gPcu4w_QQ7sG"
      }
    },
    {
      "cell_type": "code",
      "source": [
        "def check_stationarity(df):\n",
        "    for col in df.columns:\n",
        "        result = adfuller(df[col].dropna())\n",
        "        print(f\"{col}: p-value = {result[1]:.4f} {'(Stationary)' if result[1] < 0.05 else '(Non-stationary)'}\")\n",
        "print(\"Kiểm tra tính dừng của dữ liệu gốc:\")\n",
        "check_stationarity(df)\n",
        "\n",
        "# Lấy sai phân để đảm bảo tính dừng\n",
        "df_diff = df.diff().dropna()\n",
        "print(\"\\nKiểm tra tính dừng của dữ liệu sau sai phân:\")\n",
        "check_stationarity(df_diff)\n"
      ],
      "metadata": {
        "colab": {
          "base_uri": "https://localhost:8080/"
        },
        "id": "QfLcgu75Q7Tm",
        "outputId": "af18875c-0f14-4c51-fb04-e0cd88a29ce8"
      },
      "execution_count": 11,
      "outputs": [
        {
          "output_type": "stream",
          "name": "stdout",
          "text": [
            "Kiểm tra tính dừng của dữ liệu gốc:\n",
            "Price: p-value = 0.9988 (Non-stationary)\n",
            "Open: p-value = 0.9986 (Non-stationary)\n",
            "High: p-value = 0.9988 (Non-stationary)\n",
            "Low: p-value = 0.9984 (Non-stationary)\n",
            "Volume: p-value = 0.0000 (Stationary)\n",
            "Change: p-value = 0.0000 (Stationary)\n",
            "\n",
            "Kiểm tra tính dừng của dữ liệu sau sai phân:\n",
            "Price: p-value = 0.0000 (Stationary)\n",
            "Open: p-value = 0.0000 (Stationary)\n",
            "High: p-value = 0.0000 (Stationary)\n",
            "Low: p-value = 0.0000 (Stationary)\n",
            "Volume: p-value = 0.0000 (Stationary)\n",
            "Change: p-value = 0.0000 (Stationary)\n"
          ]
        }
      ]
    },
    {
      "cell_type": "markdown",
      "source": [
        "# 4. Chia tập train/val/test (70/15/15)\n",
        "\n"
      ],
      "metadata": {
        "id": "X8MEgMFCTw1u"
      }
    },
    {
      "source": [
        "n = len(df_diff)\n",
        "train_end = int(n * 0.7)\n",
        "val_end = train_end + int(n * 0.15)\n",
        "\n",
        "# Get dates from the index of df_diff\n",
        "dates = df_diff.index\n",
        "\n",
        "dates_train = dates[:train_end]\n",
        "dates_val = dates[train_end:val_end]\n",
        "dates_test = dates[val_end:]\n",
        "\n",
        "train = df_diff.iloc[:train_end]\n",
        "val = df_diff.iloc[train_end:val_end]\n",
        "test = df_diff.iloc[val_end:]"
      ],
      "cell_type": "code",
      "metadata": {
        "id": "1LNhx__QUCne"
      },
      "execution_count": 14,
      "outputs": []
    },
    {
      "cell_type": "markdown",
      "source": [
        "# 5. Huấn luyện mô hình VAR (gộp train + val)"
      ],
      "metadata": {
        "id": "dFc1p3N5UGcv"
      }
    },
    {
      "cell_type": "code",
      "source": [
        "train_val = pd.concat([train, val])\n",
        "model = VAR(train_val)\n",
        "results = model.fit(maxlags=15, ic='aic')"
      ],
      "metadata": {
        "colab": {
          "base_uri": "https://localhost:8080/"
        },
        "id": "b245SUm2UE6Y",
        "outputId": "6c2e1ded-6f05-4510-fe00-f35890cf293a"
      },
      "execution_count": 15,
      "outputs": [
        {
          "output_type": "stream",
          "name": "stderr",
          "text": [
            "/usr/local/lib/python3.11/dist-packages/statsmodels/tsa/base/tsa_model.py:473: ValueWarning: A date index has been provided, but it has no associated frequency information and so will be ignored when e.g. forecasting.\n",
            "  self._init_dates(dates, freq)\n"
          ]
        }
      ]
    },
    {
      "cell_type": "markdown",
      "source": [
        "# 6. Dự đoán trên tập test"
      ],
      "metadata": {
        "id": "pcDc8L0wUKsH"
      }
    },
    {
      "cell_type": "code",
      "source": [
        "lag_order = results.k_ar\n",
        "forecast_input = train_val.values[-lag_order:]\n",
        "forecast_steps = len(test)\n",
        "forecast = results.forecast(y=forecast_input, steps=forecast_steps)"
      ],
      "metadata": {
        "id": "skVoj_JvUPDl"
      },
      "execution_count": 16,
      "outputs": []
    },
    {
      "cell_type": "code",
      "source": [
        "# Chuyển dự đoán sai phân về giá trị gốc\n",
        "forecast_test_diff = pd.DataFrame(forecast, index=dates_test, columns=df.columns)\n",
        "last_observed = df.loc[train_val.index][-1:]  # Giá trị gốc cuối cùng của train_val\n",
        "forecast_test = forecast_test_diff.cumsum() + last_observed.values\n",
        "forecast_test_df = pd.DataFrame(forecast_test, index=dates_test, columns=df.columns)"
      ],
      "metadata": {
        "id": "-CcLOR9pURld"
      },
      "execution_count": 17,
      "outputs": []
    },
    {
      "cell_type": "markdown",
      "source": [
        "# 7. Đánh giá trên Price"
      ],
      "metadata": {
        "id": "uAcw_ypWUUGl"
      }
    },
    {
      "cell_type": "code",
      "source": [
        "def evaluate(y_true, y_pred, y_train_series):\n",
        "    rmse = np.sqrt(mean_squared_error(y_true, y_pred))\n",
        "    mae = mean_absolute_error(y_true, y_pred)\n",
        "    mape = mean_absolute_percentage_error(y_true, y_pred)\n",
        "    naive = np.abs(y_train_series[1:] - y_train_series[:-1])\n",
        "    mase = mae / np.mean(naive)\n",
        "    return rmse, mae, mape, mase\n",
        "\n",
        "# Lấy giá trị gốc của test để đánh giá\n",
        "test_original = df.loc[dates_test]\n",
        "y_true = test_original['Price']\n",
        "y_pred = forecast_test_df['Price']\n",
        "y_train_original = df.loc[dates_train]['Price'].values\n",
        "metrics_test = evaluate(y_true, y_pred, y_train_original)\n",
        "print(f\"Test: RMSE={metrics_test[0]:.4f}, MAE={metrics_test[1]:.4f}, MAPE={metrics_test[2]:.4f}, MASE={metrics_test[3]:.4f}\")"
      ],
      "metadata": {
        "colab": {
          "base_uri": "https://localhost:8080/"
        },
        "id": "qpnX76M7UXbO",
        "outputId": "4236538d-ff9e-4daf-ed85-3f08355cead1"
      },
      "execution_count": 19,
      "outputs": [
        {
          "output_type": "stream",
          "name": "stdout",
          "text": [
            "Test: RMSE=488.9888, MAE=374.0770, MAPE=0.1505, MASE=37.4581\n"
          ]
        }
      ]
    },
    {
      "cell_type": "markdown",
      "source": [
        "# 8. Dự báo tương lai 30/60/90 ngày"
      ],
      "metadata": {
        "id": "WEF90Er9Ufpd"
      }
    },
    {
      "cell_type": "code",
      "source": [
        "def forecast_future_VAR(model_result, last_data, steps, last_observed):\n",
        "    forecast_vals = model_result.forecast(y=last_data.values[-model_result.k_ar:], steps=steps)\n",
        "    forecast_index = pd.date_range(start=last_data.index[-1] + timedelta(days=1), periods=steps, freq='D')\n",
        "    forecast_diff = pd.DataFrame(forecast_vals, index=forecast_index, columns=last_data.columns)\n",
        "    forecast = forecast_diff.cumsum() + last_observed.values\n",
        "    return pd.DataFrame(forecast, index=forecast_index, columns=last_data.columns)"
      ],
      "metadata": {
        "id": "h8pXpT_xUmxI"
      },
      "execution_count": 20,
      "outputs": []
    },
    {
      "cell_type": "code",
      "source": [
        "\n",
        "last_observed = df.iloc[-1:]  # Giá trị gốc cuối cùng của toàn bộ dữ liệu\n",
        "future_30_VAR = forecast_future_VAR(results, df_diff, 30, last_observed)\n",
        "future_60_VAR = forecast_future_VAR(results, df_diff, 60, last_observed)\n",
        "future_90_VAR = forecast_future_VAR(results, df_diff, 90, last_observed)"
      ],
      "metadata": {
        "id": "WHBZEZWSUpXg"
      },
      "execution_count": 21,
      "outputs": []
    },
    {
      "cell_type": "markdown",
      "source": [
        "# 9. Vẽ biểu đồ kết quả"
      ],
      "metadata": {
        "id": "B0OCLwF0Urj9"
      }
    },
    {
      "cell_type": "code",
      "source": [
        "plt.figure(figsize=(16, 9))\n",
        "\n",
        "# Plot train, validation, test actuals\n",
        "plt.plot(dates_train, df.loc[dates_train]['Price'], label=\"Train\")\n",
        "plt.plot(dates_val, df.loc[dates_val]['Price'], label=\"Validation\")\n",
        "plt.plot(dates_test, df.loc[dates_test]['Price'], label=\"Test Actual\")\n",
        "\n",
        "# Plot test predictions\n",
        "plt.plot(dates_test, forecast_test_df['Price'], label=\"Test Predicted\", linestyle='-.')\n",
        "\n",
        "# Plot future forecasts\n",
        "plt.plot(future_30_VAR.index, future_30_VAR['Price'], label=\"Forecast +30d\", linestyle='--')\n",
        "plt.plot(future_60_VAR.index, future_60_VAR['Price'], label=\"Forecast +60d\", linestyle='--')\n",
        "plt.plot(future_90_VAR.index, future_90_VAR['Price'], label=\"Forecast +90d\", linestyle='--')\n",
        "\n",
        "plt.xlabel(\"Date\")\n",
        "plt.ylabel(\"Price\")\n",
        "plt.title(\"Gold Price Forecast with VAR\")\n",
        "plt.legend()\n",
        "plt.gcf().autofmt_xdate()\n",
        "plt.tight_layout()\n",
        "plt.savefig('gold_price_forecast_var.png')\n",
        "plt.show()"
      ],
      "metadata": {
        "colab": {
          "base_uri": "https://localhost:8080/",
          "height": 407
        },
        "id": "jc4VhgaoUuR9",
        "outputId": "ec850aac-a6ba-43f0-e319-3736afc4ca5f"
      },
      "execution_count": 22,
      "outputs": [
        {
          "output_type": "display_data",
          "data": {
            "text/plain": [
              "<Figure size 1600x900 with 1 Axes>"
            ],
            "image/png": "[encoded data removed]"
          },
          "metadata": {}
        }
      ]
    }
  ]
}