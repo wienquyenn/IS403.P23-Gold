{
 "cells": [
  {
   "cell_type": "code",
   "execution_count": 1,
   "metadata": {},
   "outputs": [],
   "source": [
    "import pandas as pd\n",
    "import os"
   ]
  },
  {
   "cell_type": "code",
   "execution_count": 7,
   "metadata": {},
   "outputs": [],
   "source": [
    "# 1. Đặt project_root thành thư mục gốc chứa IS403.P23-Gold\n",
    "project_root = r\"D:\\TunTun\\HTTT2022.2\\IS403.P23-Gold\""
   ]
  },
  {
   "cell_type": "code",
   "execution_count": 8,
   "metadata": {},
   "outputs": [],
   "source": [
    "\n",
    "# 2. Xác định các thư mục con\n",
    "processed_dir = os.path.join(project_root, \"Dataset\", \"Processed\")\n",
    "splits_dir    = os.path.join(project_root, \"Dataset\", \"Splits\")"
   ]
  },
  {
   "cell_type": "code",
   "execution_count": 9,
   "metadata": {},
   "outputs": [],
   "source": [
    "# 3. Đảm bảo thư mục Splits có sẵn\n",
    "os.makedirs(splits_dir, exist_ok=True)"
   ]
  },
  {
   "cell_type": "code",
   "execution_count": 10,
   "metadata": {},
   "outputs": [],
   "source": [
    "# 4. Đường dẫn đến file gốc\n",
    "input_csv = os.path.join(processed_dir, \"gold_with_cpi.csv\")"
   ]
  },
  {
   "cell_type": "code",
   "execution_count": 11,
   "metadata": {},
   "outputs": [],
   "source": [
    "# 5. Kiểm tra file có tồn tại không (debug)\n",
    "if not os.path.exists(input_csv):\n",
    "    raise FileNotFoundError(f\"Không tìm thấy file: {input_csv}\")"
   ]
  },
  {
   "cell_type": "code",
   "execution_count": 12,
   "metadata": {},
   "outputs": [],
   "source": [
    "# 6. Đọc dữ liệu\n",
    "df = pd.read_csv(input_csv)"
   ]
  },
  {
   "cell_type": "code",
   "execution_count": 13,
   "metadata": {},
   "outputs": [],
   "source": [
    "# 7. Tính kích thước từng tập (theo ví dụ 70% - 15% - 15%)\n",
    "n = len(df)\n",
    "train_size = int(n * 0.7)\n",
    "val_size   = int(n * 0.15)\n",
    "test_size  = n - train_size - val_size"
   ]
  },
  {
   "cell_type": "code",
   "execution_count": 14,
   "metadata": {},
   "outputs": [],
   "source": [
    "# 8. Tách theo thứ tự và chuyển về DataFrame\n",
    "train_df = df.iloc[:train_size]\n",
    "val_df = df.iloc[train_size:train_size + val_size]\n",
    "test_df = df.iloc[train_size + val_size:]"
   ]
  },
  {
   "cell_type": "code",
   "execution_count": 17,
   "metadata": {},
   "outputs": [],
   "source": [
    "# 9. Ghi ra Splits\n",
    "train_df.to_csv(os.path.join(splits_dir, \"train_70_15_15.csv\"), index=False)\n",
    "val_df.to_csv(  os.path.join(splits_dir, \"val_70_15_15.csv\"),   index=False)\n",
    "test_df.to_csv( os.path.join(splits_dir, \"test_70_15_15.csv\"),  index=False)"
   ]
  },
  {
   "cell_type": "code",
   "execution_count": 16,
   "metadata": {},
   "outputs": [
    {
     "name": "stdout",
     "output_type": "stream",
     "text": [
      "Total samples: 3886\n",
      "Train: 2720  |  Val: 582  |  Test: 584\n",
      "Saved to:\n",
      " - D:\\TunTun\\HTTT2022.2\\IS403.P23-Gold\\Dataset\\Splits\\train_70_15_15.csv\n",
      " - D:\\TunTun\\HTTT2022.2\\IS403.P23-Gold\\Dataset\\Splits\\val_70_15_15.csv\n",
      " - D:\\TunTun\\HTTT2022.2\\IS403.P23-Gold\\Dataset\\Splits\\test_70_15_15.csv\n"
     ]
    }
   ],
   "source": [
    "# 10. In kết quả\n",
    "print(f\"Total samples: {n}\")\n",
    "print(f\"Train: {len(train_df)}  |  Val: {len(val_df)}  |  Test: {len(test_df)}\")\n",
    "print(\"Saved to:\")\n",
    "print(\" -\", os.path.join(splits_dir, \"train_70_15_15.csv\"))\n",
    "print(\" -\", os.path.join(splits_dir, \"val_70_15_15.csv\"))\n",
    "print(\" -\", os.path.join(splits_dir, \"test_70_15_15.csv\"))"
   ]
  }
 ],
 "metadata": {
  "kernelspec": {
   "display_name": "Python 3",
   "language": "python",
   "name": "python3"
  },
  "language_info": {
   "codemirror_mode": {
    "name": "ipython",
    "version": 3
   },
   "file_extension": ".py",
   "mimetype": "text/x-python",
   "name": "python",
   "nbconvert_exporter": "python",
   "pygments_lexer": "ipython3",
   "version": "3.13.2"
  }
 },
 "nbformat": 4,
 "nbformat_minor": 2
}
