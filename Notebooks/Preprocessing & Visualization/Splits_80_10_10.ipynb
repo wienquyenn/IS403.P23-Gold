{
 "cells": [
  {
   "cell_type": "code",
   "execution_count": 23,
   "metadata": {},
   "outputs": [],
   "source": [
    "import pandas as pd\n",
    "import os"
   ]
  },
  {
   "cell_type": "code",
   "execution_count": 24,
   "metadata": {},
   "outputs": [],
   "source": [
    "# 1. Đặt project_root thành thư mục gốc chứa IS403.P23-Gold\n",
    "project_root = r\"D:\\TunTun\\HTTT2022.2\\IS403.P23-Gold\""
   ]
  },
  {
   "cell_type": "code",
   "execution_count": 25,
   "metadata": {},
   "outputs": [],
   "source": [
    "\n",
    "# 2. Xác định các thư mục con\n",
    "processed_dir = os.path.join(project_root, \"Dataset\", \"Processed\")\n",
    "splits_dir    = os.path.join(project_root, \"Dataset\", \"Splits\")"
   ]
  },
  {
   "cell_type": "code",
   "execution_count": 26,
   "metadata": {},
   "outputs": [],
   "source": [
    "# 3. Đảm bảo thư mục Splits có sẵn\n",
    "os.makedirs(splits_dir, exist_ok=True)"
   ]
  },
  {
   "cell_type": "code",
   "execution_count": 27,
   "metadata": {},
   "outputs": [],
   "source": [
    "# 4. Đường dẫn đến file gốc\n",
    "input_csv = os.path.join(processed_dir, \"gold_with_cpi.csv\")"
   ]
  },
  {
   "cell_type": "code",
   "execution_count": 28,
   "metadata": {},
   "outputs": [],
   "source": [
    "# 5. Kiểm tra file có tồn tại không (debug)\n",
    "if not os.path.exists(input_csv):\n",
    "    raise FileNotFoundError(f\"Không tìm thấy file: {input_csv}\")"
   ]
  },
  {
   "cell_type": "code",
   "execution_count": 29,
   "metadata": {},
   "outputs": [],
   "source": [
    "# 6. Đọc dữ liệu\n",
    "df = pd.read_csv(input_csv)"
   ]
  },
  {
   "cell_type": "code",
   "execution_count": 30,
   "metadata": {},
   "outputs": [],
   "source": [
    "# 7. Tính kích thước từng tập (theo ví dụ 70% - 15% - 15%)\n",
    "n = len(df)\n",
    "train_size = int(n * 0.8)\n",
    "val_size   = int(n * 0.1)\n",
    "test_size  = n - train_size - val_size"
   ]
  },
  {
   "cell_type": "code",
   "execution_count": 31,
   "metadata": {},
   "outputs": [],
   "source": [
    "# 8. Tách theo thứ tự (dữ liệu cũ nhất -> mới nhất)\n",
    "# Dữ liệu cũ nhất (test - first 10%)\n",
    "test_df = df.iloc[:test_size]\n",
    "# Dữ liệu giữa (val - next 10%)\n",
    "val_df = df.iloc[test_size:test_size + val_size]\n",
    "# Dữ liệu mới nhất (train - last 80%)\n",
    "train_df = df.iloc[test_size + val_size:]"
   ]
  },
  {
   "cell_type": "code",
   "execution_count": 32,
   "metadata": {},
   "outputs": [],
   "source": [
    "# 9. Ghi ra Splits\n",
    "train_df.to_csv(os.path.join(splits_dir, \"train_80_10_10.csv\"), index=False)\n",
    "val_df.to_csv(  os.path.join(splits_dir, \"val_80_10_10.csv\"),   index=False)\n",
    "test_df.to_csv( os.path.join(splits_dir, \"test_80_10_10.csv\"),  index=False)"
   ]
  },
  {
   "cell_type": "code",
   "execution_count": 33,
   "metadata": {},
   "outputs": [
    {
     "name": "stdout",
     "output_type": "stream",
     "text": [
      "Total samples: 3886\n",
      "Train: 3108  |  Val: 388  |  Test: 390\n",
      "Saved to:\n",
      " - D:\\TunTun\\HTTT2022.2\\IS403.P23-Gold\\Dataset\\Splits\\train_80_10_10.csv\n",
      " - D:\\TunTun\\HTTT2022.2\\IS403.P23-Gold\\Dataset\\Splits\\val_80_10_10.csv\n",
      " - D:\\TunTun\\HTTT2022.2\\IS403.P23-Gold\\Dataset\\Splits\\test_80_10_10.csv\n"
     ]
    }
   ],
   "source": [
    "# 10. In kết quả\n",
    "print(f\"Total samples: {n}\")\n",
    "print(f\"Train: {len(train_df)}  |  Val: {len(val_df)}  |  Test: {len(test_df)}\")\n",
    "print(\"Saved to:\")\n",
    "print(\" -\", os.path.join(splits_dir, \"train_80_10_10.csv\"))\n",
    "print(\" -\", os.path.join(splits_dir, \"val_80_10_10.csv\"))\n",
    "print(\" -\", os.path.join(splits_dir, \"test_80_10_10.csv\"))"
   ]
  }
 ],
 "metadata": {
  "kernelspec": {
   "display_name": "Python 3",
   "language": "python",
   "name": "python3"
  },
  "language_info": {
   "codemirror_mode": {
    "name": "ipython",
    "version": 3
   },
   "file_extension": ".py",
   "mimetype": "text/x-python",
   "name": "python",
   "nbconvert_exporter": "python",
   "pygments_lexer": "ipython3",
   "version": "3.13.2"
  }
 },
 "nbformat": 4,
 "nbformat_minor": 2
}
