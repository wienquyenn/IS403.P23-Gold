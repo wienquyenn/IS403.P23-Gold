{
 "cells": [
  {
   "cell_type": "code",
   "execution_count": 1,
   "id": "b42770d3",
   "metadata": {},
   "outputs": [],
   "source": [
    "import pandas as pd\n",
    "\n",
    "# Đọc dữ liệu\n",
    "gold = pd.read_csv('gold_price.csv') \n",
    "cpi = pd.read_csv('CPIAUCSL.csv')"
   ]
  },
  {
   "cell_type": "code",
   "execution_count": 2,
   "id": "c8c373a9",
   "metadata": {},
   "outputs": [],
   "source": [
    "gold['Date'] = pd.to_datetime(gold['Date'])\n",
    "cpi['observation_date'] = pd.to_datetime(cpi['observation_date'])"
   ]
  },
  {
   "cell_type": "code",
   "execution_count": 3,
   "id": "e10a5df1",
   "metadata": {},
   "outputs": [],
   "source": [
    "# Tạo khung thời gian đầy đủ từ ngày đầu tiên của CPI đến ngày cuối của giá vàng\n",
    "date_range = pd.date_range(start=cpi['observation_date'].min(), end=gold['Date'].max(), freq='D')\n",
    "cpi_full = pd.DataFrame({'observation_date': date_range})\n",
    "cpi = cpi_full.merge(cpi, on='observation_date', how='left')"
   ]
  },
  {
   "cell_type": "code",
   "execution_count": null,
   "id": "ea8ffa53",
   "metadata": {},
   "outputs": [
    {
     "name": "stderr",
     "output_type": "stream",
     "text": [
      "C:\\Users\\Thinkpad\\AppData\\Local\\Temp\\ipykernel_23384\\1246961973.py:2: FutureWarning: Series.fillna with 'method' is deprecated and will raise in a future version. Use obj.ffill() or obj.bfill() instead.\n",
      "  cpi['CPIAUCSL'] = cpi['CPIAUCSL'].fillna(method='ffill')\n"
     ]
    }
   ],
   "source": [
    "# Điền giá trị CPI bằng ffill cho ngày 1 tháng 4 vì CPI đang thiếu chỉ mỗi ngày 1 tháng 4\n",
    "cpi['CPIAUCSL'] = cpi['CPIAUCSL'].fillna(method='ffill')"
   ]
  },
  {
   "cell_type": "code",
   "execution_count": 6,
   "id": "e616ec46",
   "metadata": {},
   "outputs": [],
   "source": [
    "# Gộp dữ liệu\n",
    "merged = gold.merge(cpi, left_on='Date', right_on='observation_date', how='left')\n",
    "# Bỏ cột observation_date (không cần thiết sau khi gộp)\n",
    "merged = merged.drop(columns=['observation_date'])"
   ]
  },
  {
   "cell_type": "code",
   "execution_count": 7,
   "id": "d59278d2",
   "metadata": {},
   "outputs": [],
   "source": [
    "merged.to_csv('gold_with_cpi.csv', index=False)"
   ]
  }
 ],
 "metadata": {
  "kernelspec": {
   "display_name": "Python 3",
   "language": "python",
   "name": "python3"
  },
  "language_info": {
   "codemirror_mode": {
    "name": "ipython",
    "version": 3
   },
   "file_extension": ".py",
   "mimetype": "text/x-python",
   "name": "python",
   "nbconvert_exporter": "python",
   "pygments_lexer": "ipython3",
   "version": "3.13.2"
  }
 },
 "nbformat": 4,
 "nbformat_minor": 5
}
